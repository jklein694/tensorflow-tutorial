{
 "cells": [
  {
   "cell_type": "markdown",
   "metadata": {},
   "source": [
    "# Intro to TensorFlow\n",
    "\n",
    "### Learning Objectives\n",
    "- Overview of TensorFlow\n",
    "- Graphs and Sessions\n",
    "- Operations and Variables\n",
    "- Using TensorBoard\n",
    "- Models in TensorFlow\n",
    "- Neural Networks in TensorFlow\n",
    "\n"
   ]
  },
  {
   "cell_type": "markdown",
   "metadata": {},
   "source": [
    "![](https://www.tensorflow.org/_static/images/tensorflow/logo.png)\n",
    "\n",
    "### What is TensorFlow\n",
    "- In 2011, Google Brain built DistBelief, the precursor of TensorFlow, as a propreitart machine learning system specifically for deep learning neural networks. \n",
    "- DistBelief quickly gained in popularity, and after a few upgrades was renamed to TensorFlow.\n",
    "- While DistBelief was very successful, it had some limitations. It was narrowly targeted to neural networks.\n",
    "- Geoffrey Hinton, the team lead for the development of TensorFlow, implemented generalized backpropagation and other improvements which allowed generation of neural networks with substantially higher accuracy, for instance a 25% reduction in errors in speech recognition"
   ]
  },
  {
   "cell_type": "markdown",
   "metadata": {},
   "source": [
    "![](https://pbs.twimg.com/media/C6k0JvBVwAEXJfZ.jpg)\n",
    "\n",
    "### Why TensorFlow?\n",
    "- Portability: deploy computation to one or more CPUs or GPUs in a desktop, server, or mobile device with a single API.\n",
    "- TensorBoard (Which is awesome)\n",
    "- TensorFlow was built from the ground up to be fast, portable, and ready for production service.\n",
    "- Faster and more customizeable than Keras, but slightly more complicated.\n",
    "- **TensorFlow is yours.**\n",
    "    - TensorFlow is an open-sourced standalone library and associated tools, tutorials, and examples with the Apache 2.0 license so you’re free to use whenever.\n",
    "    "
   ]
  },
  {
   "cell_type": "markdown",
   "metadata": {},
   "source": [
    "![](https://mancap314.github.io/images/tensorflow.png)\n",
    "\n",
    "# First - Build Phase: Build your tensor flow graph.\n",
    "### -- A graph defines the computation. It doesn’t compute anything, it doesn’t hold any values, it just defines the operations that you specified in your code.\n",
    "\n",
    "# Second - Execution Phase:  A Session to run all of your computations at once.\n",
    "###    -- A session allows to execute graphs or part of graphs. It allocates resources (on one or more machines) for that and holds the actual values of intermediate results and variables."
   ]
  },
  {
   "cell_type": "markdown",
   "metadata": {},
   "source": [
    "# What is a Tensor?\n",
    "## An n-dimensional array\n",
    "### - 0-d tensor: scalar (number)\n",
    "### - 1-d tensor: vector\n",
    "### - 2-d tensor: matrix\n",
    "\n",
    "![](https://leonardoaraujosantos.gitbooks.io/artificial-inteligence/content/Images/scalar-vector-matrix.gif)"
   ]
  },
  {
   "cell_type": "markdown",
   "metadata": {},
   "source": [
    "## What do you think is going to happend when I run this cell?"
   ]
  },
  {
   "cell_type": "code",
   "execution_count": 1,
   "metadata": {
    "ExecuteTime": {
     "end_time": "2017-11-08T15:41:44.649446Z",
     "start_time": "2017-11-08T15:41:42.879575Z"
    }
   },
   "outputs": [
    {
     "name": "stdout",
     "output_type": "stream",
     "text": [
      "Tensor(\"Add:0\", shape=(), dtype=int32)\n"
     ]
    }
   ],
   "source": [
    "import tensorflow as tf\n",
    "\n",
    "a = tf.add(4, 6)\n",
    "\n",
    "print(a)"
   ]
  },
  {
   "cell_type": "markdown",
   "metadata": {},
   "source": [
    "\n",
    "\n",
    "\n",
    "\n",
    "\n",
    "\n",
    "\n"
   ]
  },
  {
   "cell_type": "markdown",
   "metadata": {},
   "source": [
    "### ... Remember we first build the graph, then we execute in the session. \n",
    "### We simply just defined the tensor \"a\".\n",
    "\n",
    "\n",
    "\n",
    "### What kind of tensor is \"a\"? Scalar, Vector, or Matrix?"
   ]
  },
  {
   "cell_type": "markdown",
   "metadata": {},
   "source": [
    "![](http://www.chemometry.com/Images/Research/TAC/TAC1.gif)"
   ]
  },
  {
   "cell_type": "markdown",
   "metadata": {},
   "source": [
    "## First we build our TensorFlow framework, then we execute them all at once. \n",
    "\n",
    "## In TensorFlow we initialize our \"Execution Phase\" by creating a session.\n",
    "\n",
    "\n",
    "## We donote our session by calling \"tf.Session()\""
   ]
  },
  {
   "cell_type": "code",
   "execution_count": 2,
   "metadata": {
    "ExecuteTime": {
     "end_time": "2017-11-08T15:41:44.676721Z",
     "start_time": "2017-11-08T15:41:44.662563Z"
    }
   },
   "outputs": [
    {
     "name": "stdout",
     "output_type": "stream",
     "text": [
      "10\n"
     ]
    }
   ],
   "source": [
    "# How to get the value of a?\n",
    "# Create a session, assign it to variable sess so we can call it later\n",
    "# Within the session, evaluate the graph to fetch the value of a\n",
    "\n",
    "a = tf.add(4, 6)\n",
    "sess = tf.Session()\n",
    "\n",
    "print(sess.run(a))\n",
    "\n",
    "sess.close()"
   ]
  },
  {
   "cell_type": "markdown",
   "metadata": {},
   "source": [
    "## Let's say we now have a lot more variables in our framework...\n",
    "\n",
    "## Create a session to run and print operations a, b, and c."
   ]
  },
  {
   "cell_type": "code",
   "execution_count": 3,
   "metadata": {
    "ExecuteTime": {
     "end_time": "2017-11-08T15:41:45.087965Z",
     "start_time": "2017-11-08T15:41:45.078081Z"
    }
   },
   "outputs": [],
   "source": [
    "a = tf.add(4, 6)\n",
    "b = tf.multiply(2, 10)\n",
    "c = tf.subtract(b, 5)\n",
    "\n",
    "# Create your Session called sess by calling tf.Session()\n",
    "# print a, b, c"
   ]
  },
  {
   "cell_type": "markdown",
   "metadata": {},
   "source": [
    "## How many of you guys have used the \"with\" block before? \n",
    "**Hint: You may have seen it earlier in the course opening files before pandas.read_csv()**\n",
    "\n",
    "Syntatically goes like this:\n",
    "\n",
    "**with** `expression` **as** `variable`:\n",
    "\n",
    "    variable (operation)\n",
    "    \n",
    "After the block is over the `expression` is terminated. "
   ]
  },
  {
   "cell_type": "code",
   "execution_count": 4,
   "metadata": {
    "ExecuteTime": {
     "end_time": "2017-11-08T15:41:45.644644Z",
     "start_time": "2017-11-08T15:41:45.620770Z"
    }
   },
   "outputs": [
    {
     "name": "stdout",
     "output_type": "stream",
     "text": [
      "[10, 20, 15]\n"
     ]
    }
   ],
   "source": [
    "# Now condense this a little bit\n",
    "\n",
    "a = tf.add(4, 6)\n",
    "b = tf.multiply(2, 10)\n",
    "c = tf.subtract(b, 5)\n",
    "\n",
    "with tf.Session() as sess:\n",
    "    added = sess.run([a, b, c])\n",
    "    print(added)\n"
   ]
  },
  {
   "cell_type": "markdown",
   "metadata": {},
   "source": [
    "### A Session object encapsulates the environment in which Operation objects are executed, and Tensor objects are evaluated."
   ]
  },
  {
   "cell_type": "markdown",
   "metadata": {},
   "source": [
    "# What value will this print out?"
   ]
  },
  {
   "cell_type": "code",
   "execution_count": 5,
   "metadata": {
    "ExecuteTime": {
     "end_time": "2017-11-08T15:41:46.485587Z",
     "start_time": "2017-11-08T15:41:46.461001Z"
    }
   },
   "outputs": [
    {
     "name": "stdout",
     "output_type": "stream",
     "text": [
      "11\n"
     ]
    }
   ],
   "source": [
    "x = 2\n",
    "y = 3\n",
    "\n",
    "op1 = tf.add(x, y)\n",
    "\n",
    "op2 = tf.multiply(x, y)\n",
    "\n",
    "op3 = tf.add(op2, op1)\n",
    "\n",
    "with tf.Session() as sess: \n",
    "    \n",
    "    op3 = sess.run(op3)\n",
    "\n",
    "print(op3)\n"
   ]
  },
  {
   "cell_type": "markdown",
   "metadata": {},
   "source": [
    "### What happened\n",
    "\n",
    "![](assets/graph1.png)\n"
   ]
  },
  {
   "cell_type": "markdown",
   "metadata": {},
   "source": [
    "# Why did I label one of these as `useless`?"
   ]
  },
  {
   "cell_type": "code",
   "execution_count": 6,
   "metadata": {
    "ExecuteTime": {
     "end_time": "2017-11-08T15:41:47.561409Z",
     "start_time": "2017-11-08T15:41:47.532818Z"
    }
   },
   "outputs": [
    {
     "name": "stdout",
     "output_type": "stream",
     "text": [
      "11\n"
     ]
    }
   ],
   "source": [
    "x = 2\n",
    "y = 3\n",
    "add_op = tf.add(x, y)\n",
    "\n",
    "mul_op = tf.multiply(x, y)\n",
    "\n",
    "useless = tf.multiply(x, add_op)\n",
    "\n",
    "add_op2 = tf.add(add_op, mul_op)\n",
    "\n",
    "with tf.Session() as sess:\n",
    "    \n",
    "    z = sess.run(add_op2) \n",
    "    \n",
    "print(z)\n"
   ]
  },
  {
   "cell_type": "markdown",
   "metadata": {},
   "source": [
    "# What is happening here?\n",
    "\n",
    "## Draw out what the Tensor Graph on your table with a partner.\n",
    "- How will this graph look different?\n",
    "\n",
    "![](assets/graph2.png)"
   ]
  },
  {
   "cell_type": "markdown",
   "metadata": {},
   "source": [
    "![](assets/useless_nn.png)"
   ]
  },
  {
   "cell_type": "markdown",
   "metadata": {},
   "source": []
  },
  {
   "cell_type": "markdown",
   "metadata": {},
   "source": [
    "# You can also run two parts of the graph in the same session simultaneously."
   ]
  },
  {
   "cell_type": "code",
   "execution_count": 7,
   "metadata": {
    "ExecuteTime": {
     "end_time": "2017-11-08T15:41:49.680807Z",
     "start_time": "2017-11-08T15:41:49.646693Z"
    }
   },
   "outputs": [
    {
     "name": "stdout",
     "output_type": "stream",
     "text": [
      "15625\n",
      "10\n"
     ]
    }
   ],
   "source": [
    "x = 2\n",
    "y = 3\n",
    "add_op = tf.add(x, y,)\n",
    "\n",
    "mul_op = tf.multiply(x, y)\n",
    "\n",
    "useless = tf.multiply(x, add_op)\n",
    "\n",
    "pow_op = tf.pow(add_op, mul_op)\n",
    "\n",
    "with tf.Session() as sess:\n",
    "    \n",
    "    z, not_useless = sess.run([pow_op, useless])\n",
    "    \n",
    "print(z)\n",
    "\n",
    "print(not_useless)"
   ]
  },
  {
   "cell_type": "markdown",
   "metadata": {},
   "source": [
    "## How did I make my not useless variable not useless?"
   ]
  },
  {
   "cell_type": "code",
   "execution_count": null,
   "metadata": {},
   "outputs": [],
   "source": []
  },
  {
   "cell_type": "markdown",
   "metadata": {},
   "source": [
    "# Now let's add a few more peices to our graph. \n",
    "\n",
    "## First we will define the processor we would like to use for this Session. \n",
    "- **By doing so we are able to run multiple processes at once to cut down on compuation time.**\n",
    "\n",
    "![](assets/gpus.png)\n",
    "\n",
    "*Example: AlexNet Graph from the book “Hands-On Machine Learning with Scikit-Learn and TensorFlow”*"
   ]
  },
  {
   "cell_type": "markdown",
   "metadata": {},
   "source": [
    "## All we need to do is specify which placeholder variables we would like to be run by which CPU/GPU device. "
   ]
  },
  {
   "cell_type": "code",
   "execution_count": 8,
   "metadata": {
    "ExecuteTime": {
     "end_time": "2017-11-08T15:41:51.196865Z",
     "start_time": "2017-11-08T15:41:51.156705Z"
    }
   },
   "outputs": [
    {
     "name": "stdout",
     "output_type": "stream",
     "text": [
      "15625\n",
      "10\n"
     ]
    }
   ],
   "source": [
    "# Creates a graph.\n",
    "\n",
    "x = 2\n",
    "y = 3\n",
    "with tf.device('/cpu:1'):\n",
    "    add_op = tf.add(x, y,)\n",
    "    mul_op = tf.multiply(x, y)\n",
    "    pow_op = tf.pow(add_op, mul_op)\n",
    "\n",
    "with tf.device('/cpu:2'):\n",
    "    useless = tf.multiply(x, add_op)\n",
    "\n",
    "\n",
    "with tf.Session() as sess:\n",
    "    \n",
    "    \n",
    "    # Creates a session with allow_soft_placement and log_device_placement set to True.\n",
    "    sess = tf.Session(config=tf.ConfigProto(\n",
    "          allow_soft_placement=True, log_device_placement=True))\n",
    "\n",
    "    z, not_useless = sess.run([pow_op, useless])\n",
    "    \n",
    "print(z)\n",
    "\n",
    "print(not_useless)\n",
    "\n"
   ]
  },
  {
   "cell_type": "markdown",
   "metadata": {},
   "source": [
    "#### Note:\n",
    "\n",
    "**\"allow_soft_placement=True\"** = If you would like TensorFlow to automatically choose an existing and supported device to run the operations in case the specified one doesn't exist, you can set allow_soft_placement to True in the configuration option when creating the session."
   ]
  },
  {
   "cell_type": "markdown",
   "metadata": {},
   "source": [
    "Possible to break graphs into several\n",
    "chunks and run them parallelly\n",
    "across multiple CPUs, GPUs, or\n",
    "devices"
   ]
  },
  {
   "cell_type": "markdown",
   "metadata": {},
   "source": [
    "## What is your Graph?\n",
    "\n",
    "- Consist of Two primary elements.\n",
    "\n",
    "### 1.  Graph Structure\n",
    " - All your nodes and edges in the graph\n",
    " - How all of your operations are composed together\n",
    "\n",
    "### 2. Graph Collections\n",
    " - All your global variables\n",
    " - All your training variables\n",
    " \n",
    "**Biggest thing worth noting, is making sure your graph does not get too big. If your graph is too large it will really slow down your computer. This is easy to do in jupyter notebooks because every variable in the kernel is assigned to the default graph.**"
   ]
  },
  {
   "cell_type": "markdown",
   "metadata": {},
   "source": [
    "### How to specify and call your graph\n",
    "\n",
    "### tf.Graph()"
   ]
  },
  {
   "cell_type": "code",
   "execution_count": 9,
   "metadata": {
    "ExecuteTime": {
     "end_time": "2017-11-08T15:41:53.041757Z",
     "start_time": "2017-11-08T15:41:53.028975Z"
    }
   },
   "outputs": [
    {
     "name": "stdout",
     "output_type": "stream",
     "text": [
      "8\n"
     ]
    }
   ],
   "source": [
    "tf.reset_default_graph()\n",
    "g = tf.Graph()\n",
    "with g.as_default():\n",
    "    a = 3\n",
    "    b = 5\n",
    "    x = tf.add(a, b)\n",
    "    \n",
    "sess = tf.Session(graph=g) # session is run on the graph g\n",
    "\n",
    "print(sess.run(x))\n",
    "# run session\n"
   ]
  },
  {
   "cell_type": "markdown",
   "metadata": {},
   "source": [
    "# Now lets start visualizing our results on TensorBoard"
   ]
  },
  {
   "cell_type": "markdown",
   "metadata": {},
   "source": [
    "# What is TensorBoard?\n",
    "### - TensorBoard is a visualization tool to inspect and understand our TensorFlow runs and graphs. \n",
    "### - Training a massive deep neural network can be confusing and complicated to understand.\n",
    "### - TensorBoard will make this a lot easier to understand, debug, and optimize our neural networks in TensorFlow.\n"
   ]
  },
  {
   "cell_type": "markdown",
   "metadata": {},
   "source": [
    "![](assets/tboard.png)"
   ]
  },
  {
   "cell_type": "markdown",
   "metadata": {},
   "source": [
    "# Let's build a graph together"
   ]
  },
  {
   "cell_type": "code",
   "execution_count": 10,
   "metadata": {
    "ExecuteTime": {
     "end_time": "2017-11-08T15:41:55.341736Z",
     "start_time": "2017-11-08T15:41:55.324217Z"
    },
    "scrolled": false
   },
   "outputs": [
    {
     "name": "stdout",
     "output_type": "stream",
     "text": [
      "10\n"
     ]
    }
   ],
   "source": [
    "import tensorflow as tf\n",
    "\n",
    "\n",
    "a = 4\n",
    "\n",
    "b = 6\n",
    "\n",
    "x = tf.add(a, b)\n",
    "\n",
    "with tf.Session() as sess:\n",
    "    \n",
    "    \n",
    "    # add this line to use TensorBoard.\n",
    "    writer = tf.summary.FileWriter('./graphs', sess.graph)\n",
    "    \n",
    "    print(sess.run(x))\n",
    "    \n",
    "writer.close() # close the writer when you’re done using it"
   ]
  },
  {
   "cell_type": "markdown",
   "metadata": {},
   "source": [
    "# Now go to your terminal window.\n",
    "\n",
    "## Make sure you cd into `7.04-tensorflow`\n",
    "\n",
    "### Enter this code into the command line:  \n",
    "`tensorboard --logdir=\"./graphs\" --port 6006`\n",
    "\n",
    "\n",
    "### Then navigate to this url:\n",
    "`http://0.0.0.0:6006`"
   ]
  },
  {
   "cell_type": "markdown",
   "metadata": {},
   "source": [
    "## My graph was not labeled in TensorBoard. We always want labeled graphs in TensorBoard, it will make our lives a lot easier once the neural networks get bigger and we need to debug. \n",
    "\n",
    "### We can easily fix this by passing the name of every variable and operation in our graph. \n",
    "\n",
    "### We also need to convert our integers 2 and 3 to tensor objects so we can assign them a name"
   ]
  },
  {
   "cell_type": "code",
   "execution_count": 11,
   "metadata": {
    "ExecuteTime": {
     "end_time": "2017-11-08T15:41:56.859240Z",
     "start_time": "2017-11-08T15:41:56.836585Z"
    }
   },
   "outputs": [
    {
     "name": "stdout",
     "output_type": "stream",
     "text": [
      "5\n"
     ]
    }
   ],
   "source": [
    "\n",
    "a = tf.constant(2, name='X')\n",
    "b = tf.constant(3, name='Y')\n",
    "add_op = tf.add(a, b, name='add')\n",
    "with tf.Session() as sess:\n",
    "    # add this line to use TensorBoard.\n",
    "    writer = tf.summary.FileWriter('./graphs', sess.graph)\n",
    "    print(sess.run(add_op))\n",
    "    \n",
    "writer.close() # close the writer when you’re done using it"
   ]
  },
  {
   "cell_type": "markdown",
   "metadata": {},
   "source": [
    "## Refresh your TensorBoard webpage and take a look now at your labeled tensor graph. "
   ]
  },
  {
   "cell_type": "markdown",
   "metadata": {},
   "source": [
    "# Placeholders\n",
    "### Remember Tensor Flow has 2 Phases \n",
    "\n",
    "#### 1. Assemble a graph\n",
    "#### 2. Execute graph with Session\n",
    "\n",
    "**This allows us to assemble the graph first without knowing the values needed for\n",
    "computation**"
   ]
  },
  {
   "cell_type": "markdown",
   "metadata": {},
   "source": [
    "# Analogy:\n",
    "## Can define the function f(x, y) = x * 2 + y without knowing the values of x or y. \n",
    "- x, y are **placeholders** for the actual values.\n",
    "\n",
    "## Why do we do this?\n",
    "- We, or our clients, can later supply their own data when they need to execute the computation. \n",
    "\n",
    "**We will store our values in a dictionary until execution.**"
   ]
  },
  {
   "cell_type": "markdown",
   "metadata": {},
   "source": [
    "# With someone next to you or by yourself explain what this cell is doing.\n",
    "# What is this cell going to output? Why?"
   ]
  },
  {
   "cell_type": "code",
   "execution_count": 12,
   "metadata": {
    "ExecuteTime": {
     "end_time": "2017-11-08T15:41:58.946015Z",
     "start_time": "2017-11-08T15:41:58.930553Z"
    }
   },
   "outputs": [
    {
     "name": "stdout",
     "output_type": "stream",
     "text": [
      "[ 6.  7.  8.]\n"
     ]
    }
   ],
   "source": [
    "# create a placeholder of type float 32-bit, shape is a vector of 3 elements\n",
    "a = tf.placeholder(tf.float32, shape=[3])\n",
    "\n",
    "# create a constant of type float 32-bit, shape is a vector of 3 elements\n",
    "b = tf.constant([5, 5, 5], tf.float32)\n",
    "\n",
    "# use the placeholder as you would a constant or a variable\n",
    "c = a + b # Short for tf.add(a, b)\n",
    "\n",
    "with tf.Session() as sess:\n",
    "# feed [1, 2, 3] to placeholder a via the dict {a: [1, 2, 3]}\n",
    "\n",
    "# Remember: (tf.Session.run(fetch, feed_dict)\n",
    "    print(sess.run(c, {a: [1, 2, 3]})) # the tensor a is the key, not the string ‘a’"
   ]
  },
  {
   "cell_type": "markdown",
   "metadata": {},
   "source": [
    "# Placeholders Shape is Important\n",
    "\n",
    "### Code:\n",
    "**var = tf.placeholder(tf.float32, shape=[])**\n",
    "\n",
    "### Caveats:\n",
    "- ** if shape=None** means that tensor of any shape will be accepted as value for placeholder.\n",
    "- **if shape=None** is easy to construct graphs, but nightmarish for debugging\n",
    "\n",
    "So... its best to include the shape. This will become way more clear once we start building neural networks.\n",
    "\n",
    "Lastly, you can feed_dict any feedable tensor. Placeholder is just a way to indicate that something must be fed\n"
   ]
  },
  {
   "cell_type": "markdown",
   "metadata": {
    "ExecuteTime": {
     "end_time": "2017-11-06T16:24:58.094244Z",
     "start_time": "2017-11-06T16:24:58.006170Z"
    }
   },
   "source": [
    "# Variables \n",
    "\n",
    "## How is a variable different than a place holder?\n",
    "\n",
    "## In the following equation what values would be \"placeholders\" and what values would be \"variables\"?\n",
    "\n",
    "## y = w * x + b"
   ]
  },
  {
   "cell_type": "code",
   "execution_count": 13,
   "metadata": {
    "ExecuteTime": {
     "end_time": "2017-11-08T15:42:00.691593Z",
     "start_time": "2017-11-08T15:42:00.685811Z"
    }
   },
   "outputs": [],
   "source": [
    "# create placeholder tensors\n",
    "\n",
    "x = tf.placeholder(tf.float32, name='x')\n",
    "y = tf.placeholder(tf.float32, name='y')"
   ]
  },
  {
   "cell_type": "code",
   "execution_count": 14,
   "metadata": {
    "ExecuteTime": {
     "end_time": "2017-11-08T15:42:01.586129Z",
     "start_time": "2017-11-08T15:42:01.574424Z"
    }
   },
   "outputs": [],
   "source": [
    "# create Variable tensors\n",
    "\n",
    "w = tf.Variable(0.0, name='w')\n",
    "b = tf.Variable(0.0, name='b')"
   ]
  },
  {
   "cell_type": "markdown",
   "metadata": {},
   "source": [
    "# Now we have added the placeholders and variables for a simple linear function. Next we want to run our session.\n",
    "\n",
    "\n",
    "# BUT Wait...\n",
    "\n",
    "# Before I run my sesssion, I need to make sure of one more thing. \n",
    "\n",
    "# All variables in TensorFlow must be initialized.\n"
   ]
  },
  {
   "cell_type": "markdown",
   "metadata": {},
   "source": [
    "### The easiest way to initialize all of your variables, is to do it all at once right before you run your session."
   ]
  },
  {
   "cell_type": "code",
   "execution_count": 15,
   "metadata": {
    "ExecuteTime": {
     "end_time": "2017-11-08T15:42:03.813174Z",
     "start_time": "2017-11-08T15:42:03.772540Z"
    },
    "scrolled": false
   },
   "outputs": [
    {
     "name": "stdout",
     "output_type": "stream",
     "text": [
      "[2 3 4 5 6]\n"
     ]
    }
   ],
   "source": [
    "import tensorflow as tf\n",
    "\n",
    "a_list = [1, 2, 3, 4, 5]\n",
    "\n",
    "x = tf.placeholder(tf.int32, shape=[5], name='x')\n",
    "\n",
    "m = tf.Variable(1, name='m')\n",
    "\n",
    "b = tf.Variable(1, name='b')\n",
    "\n",
    "linear_func = tf.add(tf.multiply(x, m), b)\n",
    "\n",
    "# Remember everything is run in the session, we are just define what we want to do here.\n",
    "init = tf.global_variables_initializer()\n",
    "\n",
    "with tf.Session() as sess:\n",
    "    \n",
    "    sess.run(init)\n",
    "    \n",
    "    \n",
    "    line = sess.run(linear_func, feed_dict={x: a_list})\n",
    "\n",
    "\n",
    "    print(line)    "
   ]
  },
  {
   "cell_type": "markdown",
   "metadata": {},
   "source": [
    "### There are a few other ways to initialize Variables, for more information I suggest you check the TensorFlow documentation. `tf.global_variables_initializer()` is by far the most common way to initialize your variables. "
   ]
  },
  {
   "cell_type": "markdown",
   "metadata": {},
   "source": [
    "# Now on your own or with a partner build the following:\n",
    "1. One tensorflow placeholder\n",
    "2. One tensorflow Variable\n",
    "3. Build your feed_dict with 5 values\n",
    "4. Add/Multiply (Or any operation) in your session and print out your results.\n",
    "\n",
    "**Much like the example above**"
   ]
  },
  {
   "cell_type": "code",
   "execution_count": 16,
   "metadata": {
    "ExecuteTime": {
     "end_time": "2017-11-08T15:42:05.320854Z",
     "start_time": "2017-11-08T15:42:05.318273Z"
    }
   },
   "outputs": [],
   "source": [
    "# Build and run your tensor flow model\n",
    "\n",
    "\n"
   ]
  },
  {
   "cell_type": "code",
   "execution_count": null,
   "metadata": {},
   "outputs": [],
   "source": []
  },
  {
   "cell_type": "markdown",
   "metadata": {},
   "source": [
    "\n",
    "\n",
    "# Now we know most of the pieces, it is time to bring them all together. "
   ]
  },
  {
   "cell_type": "markdown",
   "metadata": {},
   "source": [
    "### Before we jump right into our first Neural Network lets, run through first building a linear model with TensorFlow. "
   ]
  },
  {
   "cell_type": "markdown",
   "metadata": {},
   "source": [
    "# Phase 1: Build our model graph"
   ]
  },
  {
   "cell_type": "markdown",
   "metadata": {},
   "source": [
    "**Step 1: Import our packages and data**"
   ]
  },
  {
   "cell_type": "code",
   "execution_count": 17,
   "metadata": {
    "ExecuteTime": {
     "end_time": "2017-11-08T15:42:08.266369Z",
     "start_time": "2017-11-08T15:42:07.965668Z"
    }
   },
   "outputs": [],
   "source": [
    "import matplotlib.pyplot as plt\n",
    "import tensorflow as tf\n",
    "import pandas as pd\n",
    "\n",
    "\n",
    "data_file = 'assets/fire_theft.csv'\n",
    "\n",
    "# Phase 1: Assemble the graph\n",
    "# Step 1: read in data from the .csv file\n",
    "data = pd.read_csv(data_file)"
   ]
  },
  {
   "cell_type": "markdown",
   "metadata": {},
   "source": [
    "**Step 2: Define and name our place holders**"
   ]
  },
  {
   "cell_type": "code",
   "execution_count": 40,
   "metadata": {
    "ExecuteTime": {
     "end_time": "2017-11-08T15:45:22.632446Z",
     "start_time": "2017-11-08T15:45:22.626374Z"
    }
   },
   "outputs": [],
   "source": [
    "# Step 2: create placeholders for input X (number of fire) and label Y (number of theft)\n",
    "# Both have the type float32\n",
    "\n",
    "X = tf.placeholder(tf.float32, name='X')\n",
    "\n",
    "# WHAT IS OUR SECOND PLACE HOLDER?\n",
    "\n",
    "Y = tf.placeholder(tf.float32, name='Y_actuals')"
   ]
  },
  {
   "cell_type": "markdown",
   "metadata": {},
   "source": [
    "**Step 3: Define our Variables**\n",
    "- What are our Variables?"
   ]
  },
  {
   "cell_type": "code",
   "execution_count": 41,
   "metadata": {
    "ExecuteTime": {
     "end_time": "2017-11-08T15:45:23.412954Z",
     "start_time": "2017-11-08T15:45:23.400446Z"
    }
   },
   "outputs": [],
   "source": [
    "# Step 3: create weight and bias, initialized to 0\n",
    "# name your variables w and b\n",
    "\n",
    "w = tf.Variable(0.0, name='weight')\n",
    "b = tf.Variable(0.0, name='bias')"
   ]
  },
  {
   "cell_type": "markdown",
   "metadata": {},
   "source": [
    "## Okay, before we move forward what are we trying to do with this linear regression?\n"
   ]
  },
  {
   "cell_type": "markdown",
   "metadata": {},
   "source": [
    " "
   ]
  },
  {
   "cell_type": "markdown",
   "metadata": {},
   "source": [
    " "
   ]
  },
  {
   "cell_type": "markdown",
   "metadata": {},
   "source": [
    " "
   ]
  },
  {
   "cell_type": "markdown",
   "metadata": {},
   "source": [
    " "
   ]
  },
  {
   "cell_type": "markdown",
   "metadata": {},
   "source": [
    "**Step 4: Build our Model**"
   ]
  },
  {
   "cell_type": "code",
   "execution_count": 42,
   "metadata": {
    "ExecuteTime": {
     "end_time": "2017-11-08T15:45:45.500295Z",
     "start_time": "2017-11-08T15:45:45.494888Z"
    }
   },
   "outputs": [],
   "source": [
    "# Simple Linear Model\n",
    "\n",
    "Y_predictions = X* w + b\n",
    "\n",
    "# Y = X * w + b"
   ]
  },
  {
   "cell_type": "markdown",
   "metadata": {},
   "source": [
    "# What is our loss?\n",
    "**Hint: We will use mean squared error.**"
   ]
  },
  {
   "cell_type": "markdown",
   "metadata": {},
   "source": [
    "**Step 5: Indicate our loss**\n",
    "- Use TensorFlows function to take the square\n",
    "- `tf.reduce_mean` gives us the mean of our squares"
   ]
  },
  {
   "cell_type": "code",
   "execution_count": 43,
   "metadata": {
    "ExecuteTime": {
     "end_time": "2017-11-08T15:45:46.491343Z",
     "start_time": "2017-11-08T15:45:46.479510Z"
    }
   },
   "outputs": [],
   "source": [
    "# Step 5: use the square error as the loss function\n",
    "# Make all values positive\n",
    "# find mean loss\n",
    "\n",
    "squares = tf.square(Y - Y_predictions)\n",
    "\n",
    "loss = tf.reduce_mean(squares, name='loss')"
   ]
  },
  {
   "cell_type": "markdown",
   "metadata": {},
   "source": [
    "# How do we reduce our loss?\n",
    "- What mathmatical function helps us reduce loss?"
   ]
  },
  {
   "cell_type": "code",
   "execution_count": null,
   "metadata": {
    "ExecuteTime": {
     "end_time": "2017-11-07T21:09:23.614332Z",
     "start_time": "2017-11-07T21:09:23.526730Z"
    }
   },
   "outputs": [],
   "source": []
  },
  {
   "cell_type": "markdown",
   "metadata": {},
   "source": [
    "**Step 6: Build loss optimizer**\n",
    "- We will use gradient descent right now but there are several different flavors of gradient descent that are sometimes better."
   ]
  },
  {
   "cell_type": "markdown",
   "metadata": {},
   "source": [
    "**More Optimizers**\n",
    "\n",
    "tf.train.GradientDescentOptimizer\n",
    "\n",
    "tf.train.AdagradOptimizer\n",
    "\n",
    "tf.train.MomentumOptimizer\n",
    "\n",
    "tf.train.AdamOptimizer\n",
    "\n",
    "tf.train.ProximalGradientDescentOptimizer\n",
    "\n",
    "tf.train.ProximalAdagradOptimizer\n",
    "\n",
    "tf.train.RMSPropOptimizer\n",
    "\n",
    "And more"
   ]
  },
  {
   "cell_type": "code",
   "execution_count": 44,
   "metadata": {
    "ExecuteTime": {
     "end_time": "2017-11-08T15:45:48.652234Z",
     "start_time": "2017-11-08T15:45:48.567776Z"
    }
   },
   "outputs": [],
   "source": [
    "# Step 6: using gradient descent with learning rate of 0.001 to minimize loss\n",
    "\n",
    "optimizer = tf.train.GradientDescentOptimizer(0.001).minimize(loss=loss)"
   ]
  },
  {
   "cell_type": "markdown",
   "metadata": {},
   "source": [
    "**Step 7: Specify our variable initializer**"
   ]
  },
  {
   "cell_type": "code",
   "execution_count": 45,
   "metadata": {
    "ExecuteTime": {
     "end_time": "2017-11-08T15:45:49.315392Z",
     "start_time": "2017-11-08T15:45:49.311634Z"
    }
   },
   "outputs": [],
   "source": [
    "# Step 7: initialize the necessary variables, in this case, w and b\n",
    "init = tf.global_variables_initializer()"
   ]
  },
  {
   "cell_type": "markdown",
   "metadata": {},
   "source": [
    "# Phase 2: Execute our model"
   ]
  },
  {
   "cell_type": "markdown",
   "metadata": {},
   "source": [
    "**Step 8: Initialize our session using a with block**"
   ]
  },
  {
   "cell_type": "code",
   "execution_count": 46,
   "metadata": {
    "ExecuteTime": {
     "end_time": "2017-11-08T15:45:53.139297Z",
     "start_time": "2017-11-08T15:45:50.544312Z"
    }
   },
   "outputs": [
    {
     "name": "stdout",
     "output_type": "stream",
     "text": [
      "Epoch 0: 2069.6319333978354\n",
      "Epoch 1: 2117.0123581953535\n",
      "Epoch 2: 2092.302723001866\n",
      "Epoch 3: 2068.5080461938464\n",
      "Epoch 4: 2045.591184088162\n",
      "Epoch 5: 2023.5146448101316\n",
      "Epoch 6: 2002.2447619835536\n",
      "Epoch 7: 1981.748338803649\n",
      "Epoch 8: 1961.9944411260742\n",
      "Epoch 9: 1942.9520116143283\n",
      "Epoch 10: 1924.5930823644712\n",
      "Epoch 11: 1906.8898800636332\n",
      "Epoch 12: 1889.8164505837929\n",
      "Epoch 13: 1873.347133841543\n",
      "Epoch 14: 1857.4588400604468\n",
      "Epoch 15: 1842.1278742424079\n",
      "Epoch 16: 1827.332495119955\n",
      "Epoch 17: 1813.0520579712022\n",
      "Epoch 18: 1799.2660847636982\n",
      "Epoch 19: 1785.9562132299961\n",
      "Epoch 20: 1773.1024853109072\n",
      "Epoch 21: 1760.689129482884\n",
      "Epoch 22: 1748.6984157081515\n",
      "Epoch 23: 1737.1138680398553\n",
      "Epoch 24: 1725.920873066732\n",
      "Epoch 25: 1715.1046249579008\n",
      "Epoch 26: 1704.6500954309377\n",
      "Epoch 27: 1694.5447134910141\n",
      "Epoch 28: 1684.7746311347667\n",
      "Epoch 29: 1675.328450968245\n",
      "Epoch 30: 1666.1935385839038\n",
      "Epoch 31: 1657.3584002084322\n",
      "Epoch 32: 1648.8122658529207\n",
      "Epoch 33: 1640.5440742547091\n",
      "Epoch 34: 1632.5446836102221\n",
      "Epoch 35: 1624.8043315147183\n",
      "Epoch 36: 1617.3126799958602\n",
      "Epoch 37: 1610.0622532456405\n",
      "Epoch 38: 1603.0433557207386\n",
      "Epoch 39: 1596.2479176106197\n",
      "Epoch 40: 1589.668056331575\n",
      "Epoch 41: 1583.2965242617897\n",
      "Epoch 42: 1577.126371285745\n",
      "Epoch 43: 1571.1501190634\n",
      "Epoch 44: 1565.360979151513\n",
      "Epoch 45: 1559.7523780798629\n",
      "Epoch 46: 1554.3184364555138\n",
      "Epoch 47: 1549.0529469620615\n",
      "Epoch 48: 1543.950059985476\n",
      "Epoch 49: 1539.0050282141283\n",
      "Epoch 50: 1534.211797797609\n",
      "Epoch 51: 1529.56534988646\n",
      "Epoch 52: 1525.0607591186251\n",
      "Epoch 53: 1520.6934648507852\n",
      "Epoch 54: 1516.4585935090713\n",
      "Epoch 55: 1512.3524023861364\n",
      "Epoch 56: 1508.3695780125756\n",
      "Epoch 57: 1504.5066588066873\n",
      "Epoch 58: 1500.7606269073274\n",
      "Epoch 59: 1497.126336559476\n",
      "Epoch 60: 1493.600210891061\n",
      "Epoch 61: 1490.1794991287668\n",
      "Epoch 62: 1486.8605145300749\n",
      "Epoch 63: 1483.639419928193\n",
      "Epoch 64: 1480.5144186365596\n",
      "Epoch 65: 1477.4811065652452\n",
      "Epoch 66: 1474.5376660533782\n",
      "Epoch 67: 1471.6799176652871\n",
      "Epoch 68: 1468.9063155567717\n",
      "Epoch 69: 1466.2136880280007\n",
      "Epoch 70: 1463.5996563179153\n",
      "Epoch 71: 1461.0614086978492\n",
      "Epoch 72: 1458.597208841216\n",
      "Epoch 73: 1456.2043069711044\n",
      "Epoch 74: 1453.8807724802089\n",
      "Epoch 75: 1451.6242183893032\n",
      "Epoch 76: 1449.432753210976\n",
      "Epoch 77: 1447.3042320180018\n",
      "Epoch 78: 1445.237068621615\n",
      "Epoch 79: 1443.228872676177\n",
      "Epoch 80: 1441.2782130186733\n",
      "Epoch 81: 1439.3831422174615\n",
      "Epoch 82: 1437.542224922173\n",
      "Epoch 83: 1435.7540219968096\n",
      "Epoch 84: 1434.0160684508405\n",
      "Epoch 85: 1432.3276573866606\n",
      "Epoch 86: 1430.687153330871\n",
      "Epoch 87: 1429.093016880254\n",
      "Epoch 88: 1427.543719962062\n",
      "Epoch 89: 1426.038033108981\n",
      "Epoch 90: 1424.5748210840281\n",
      "Epoch 91: 1423.1531702368743\n",
      "Epoch 92: 1421.771026852585\n",
      "Epoch 93: 1420.4274983895677\n",
      "Epoch 94: 1419.121967994741\n",
      "Epoch 95: 1417.85251878131\n",
      "Epoch 96: 1416.618930517208\n",
      "Epoch 97: 1415.4196022436731\n",
      "Epoch 98: 1414.2534379121803\n",
      "Epoch 99: 1413.1202843011845\n"
     ]
    }
   ],
   "source": [
    "with tf.Session() as sess:\n",
    "    \n",
    "    # Now that our session is initialized we need to run our initializer to initialize weights and biases\n",
    "    sess.run(init)\n",
    "    \n",
    "    \n",
    "    # STEP 9: Define our TensorBoard writer\n",
    "    # we need to define our file location, we want it to be different than our last file location\n",
    "    # we will also want to define the graph we would like to pass. This is the default location\n",
    "    writer = tf.summary.FileWriter('./graphs/lin_reg', sess.graph)\n",
    "    \n",
    "    \n",
    "    # STEP 10: Train our model using batches and a feed_dict\n",
    "    for i in range(100):  # run 100 epochs\n",
    "        total_loss = 0    # set our total_loss counter\n",
    "        for x, y in data.values: # define our x and y data from our data set we will assign these to our feed_dict\n",
    "            \n",
    "            # Session runs optimizer to minimize loss and fetch the value of loss. Name the received value as l\n",
    "            _, l = sess.run([optimizer, loss], feed_dict={X: x, Y: y})\n",
    "            \n",
    "            # Why do I have a \"_\" value?\n",
    "            \n",
    "            # Increase our total_loss by \"1\" (*This is not a one*)\n",
    "            total_loss += l\n",
    "        \n",
    "        # Print out our total_loss at each Epoch\n",
    "        print(\"Epoch {0}: {1}\".format(i, total_loss / len(data)))\n",
    "        \n",
    "    # close the writer when you're done using it\n",
    "    writer.close()\n",
    "    \n",
    "    # Lastly we want to run our values for weight and bias, so we can plot them afterwards.\n",
    "    w, b = sess.run([w, b])\n",
    "        \n",
    "        \n",
    "            "
   ]
  },
  {
   "cell_type": "code",
   "execution_count": 47,
   "metadata": {
    "ExecuteTime": {
     "end_time": "2017-11-08T15:46:00.654314Z",
     "start_time": "2017-11-08T15:46:00.465364Z"
    }
   },
   "outputs": [
    {
     "data": {
      "image/png": "[encoded data removed]",
      "text/plain": [
       "<matplotlib.figure.Figure at 0x1211495f8>"
      ]
     },
     "metadata": {},
     "output_type": "display_data"
    }
   ],
   "source": [
    "# plot the results\n",
    "X, Y = data['X'], data['Y']\n",
    "plt.plot(X, Y, 'bo', label='Real data')\n",
    "plt.plot(X, X * w + b, 'r', label='Predicted data')\n",
    "plt.legend()\n",
    "plt.show()"
   ]
  },
  {
   "cell_type": "markdown",
   "metadata": {},
   "source": [
    "# What was my batch size? "
   ]
  },
  {
   "cell_type": "code",
   "execution_count": null,
   "metadata": {
    "collapsed": true
   },
   "outputs": [],
   "source": [
    "# The length of our data, so essentially there was not one. "
   ]
  },
  {
   "cell_type": "markdown",
   "metadata": {},
   "source": [
    "### Let's look at our linear model in TensorBoard\n",
    "\n",
    "### Now go to your terminal window.\n",
    "\n",
    "### Enter this code into the command line.  `tensorboard --logdir=\"./graphs/lin_reg\" --port 6006`\n",
    "\n",
    "\n",
    "### Then navigate to this url. `http://0.0.0.0:6006`\n",
    "\n"
   ]
  },
  {
   "cell_type": "markdown",
   "metadata": {},
   "source": [
    "# Any Questions?"
   ]
  },
  {
   "cell_type": "markdown",
   "metadata": {},
   "source": [
    "## Now we have grasp of how to build a simple linear model in TensorFlow, we are going to stack all of these skills together to build our first neural network with TensorFlow. \n",
    "\n",
    "## I am going to run through this neural network example using the same process as before, but with only a couple more steps "
   ]
  },
  {
   "cell_type": "markdown",
   "metadata": {},
   "source": [
    "# Phase 1: Build our graph"
   ]
  },
  {
   "cell_type": "markdown",
   "metadata": {},
   "source": [
    "**Step 1: Import our packages and data**"
   ]
  },
  {
   "cell_type": "code",
   "execution_count": null,
   "metadata": {
    "ExecuteTime": {
     "end_time": "2017-11-07T21:24:47.709772Z",
     "start_time": "2017-11-07T21:24:37.712829Z"
    }
   },
   "outputs": [],
   "source": [
    "import tensorflow as tf\n",
    "\n",
    "from tensorflow.examples.tutorials.mnist import input_data\n",
    "\n",
    "mnist = input_data.read_data_sets('MNIST_Data', one_hot=True)"
   ]
  },
  {
   "cell_type": "code",
   "execution_count": null,
   "metadata": {
    "ExecuteTime": {
     "end_time": "2017-11-07T21:25:27.242907Z",
     "start_time": "2017-11-07T21:25:27.218937Z"
    }
   },
   "outputs": [],
   "source": [
    "mnist.train.images[0]"
   ]
  },
  {
   "cell_type": "code",
   "execution_count": null,
   "metadata": {
    "ExecuteTime": {
     "end_time": "2017-11-07T21:28:09.712393Z",
     "start_time": "2017-11-07T21:28:09.707921Z"
    }
   },
   "outputs": [],
   "source": [
    "mnist.train.labels[0].shape"
   ]
  },
  {
   "cell_type": "code",
   "execution_count": null,
   "metadata": {
    "ExecuteTime": {
     "end_time": "2017-11-07T21:28:37.015861Z",
     "start_time": "2017-11-07T21:28:37.011582Z"
    }
   },
   "outputs": [],
   "source": [
    "mnist.train.images[0].shape"
   ]
  },
  {
   "cell_type": "markdown",
   "metadata": {},
   "source": [
    "### These are the shapes of our values in training data. What does this tell us? "
   ]
  },
  {
   "cell_type": "markdown",
   "metadata": {},
   "source": [
    "**Step 2: Define our Neural Network Constants**"
   ]
  },
  {
   "cell_type": "code",
   "execution_count": null,
   "metadata": {
    "ExecuteTime": {
     "end_time": "2017-11-07T21:39:33.380414Z",
     "start_time": "2017-11-07T21:39:33.374215Z"
    },
    "collapsed": true
   },
   "outputs": [],
   "source": [
    "# These are the number of nodes we want to have in each layer,\n",
    "# we can set these values to whatever we want.\n",
    "num_nodes_hl1 = 500\n",
    "num_nodes_hl2 = 500\n",
    "num_nodes_hl3 = 500\n",
    "\n",
    "# Number of output classes equals 10\n",
    "# Our classes are also in one hot encoding\n",
    "n_classes = 10\n",
    "\n",
    "# The size of our imput data is 784\n",
    "input_dim = 784\n",
    "\n",
    "# We can set our batch size to whatever we can fit into memory\n",
    "batch_size = 64\n",
    "\n",
    "# Determine how many epochs we would like to use\n",
    "hm_epoch = 10"
   ]
  },
  {
   "cell_type": "markdown",
   "metadata": {},
   "source": [
    "**Step 3: Define our placeholders**"
   ]
  },
  {
   "cell_type": "code",
   "execution_count": null,
   "metadata": {
    "ExecuteTime": {
     "end_time": "2017-11-07T21:39:36.052123Z",
     "start_time": "2017-11-07T21:39:36.045868Z"
    },
    "collapsed": true
   },
   "outputs": [],
   "source": [
    "# Set the height and wide of model\n",
    "# These are x and y variables and they must be one dimensional each\n",
    "# So the first dimension always equals None\n",
    "# The second must equal the dimension of your X and y variable\n",
    "\n",
    "x = tf.placeholder(tf.float32, shape=[None, input_dim], name='x_placeholder')\n",
    "y = tf.placeholder(tf.float32, shape=[None, n_classes], name='y_placeholder')"
   ]
  },
  {
   "cell_type": "markdown",
   "metadata": {},
   "source": [
    "**Step 4: Define our variables**\n",
    "- This step will look a bit different now that we are working with a neural network"
   ]
  },
  {
   "cell_type": "markdown",
   "metadata": {},
   "source": [
    "Before we just needed to define two variables our bias and our weights. However, now we have a bias and weight for every node on each layer. \n",
    "\n",
    "We need to build a dictionary of weights and biases at every layer with the correct shape to make sure we have a weight for every node. "
   ]
  },
  {
   "cell_type": "code",
   "execution_count": null,
   "metadata": {
    "ExecuteTime": {
     "end_time": "2017-11-07T21:47:57.036024Z",
     "start_time": "2017-11-07T21:47:56.954016Z"
    },
    "collapsed": true
   },
   "outputs": [],
   "source": [
    "# Initialize hidden layer's variables (Inputs, Weights, and Biases) and take random sample from batch training data\n",
    "\n",
    "# Shape equals input data, and number of nodes\n",
    "hidden_layer_1 = {'weights': tf.Variable(tf.random_normal(shape=[input_dim, num_nodes_hl1], name='hidden_layer_1')),\n",
    "                  'biases': tf.Variable(tf.random_normal(shape=[num_nodes_hl1]))}\n",
    "\n",
    "# The output shape of hidden_layer_1 is the num_nodes_hl1, so that is the input for the next layer\n",
    "hidden_layer_2 = {'weights': tf.Variable(tf.random_normal(shape=[num_nodes_hl1, num_nodes_hl2], name='hidden_layer_2')),\n",
    "                  'biases': tf.Variable(tf.random_normal(shape=[num_nodes_hl2]))}\n",
    "\n",
    "\n",
    "hidden_layer_3 = {'weights': tf.Variable(tf.random_normal(shape=[num_nodes_hl2, num_nodes_hl3], name='hidden_layer_3')),\n",
    "                  'biases': tf.Variable(tf.random_normal(shape=[num_nodes_hl3]))}\n",
    "\n",
    "\n",
    "# Lastly we need the output layer, which must have the same output shape as our number of classes or our y shape\n",
    "output_layer = {'weights': tf.Variable(tf.random_normal(shape=[num_nodes_hl3, n_classes], name='output_layer')),\n",
    "                  'biases': tf.Variable(tf.random_normal(shape=[n_classes]))}"
   ]
  },
  {
   "cell_type": "markdown",
   "metadata": {},
   "source": [
    "### There is a lot going on here. Let's break it down a little bit. \n",
    "\n",
    "- First I initialize my variable much like I did in the linear regression.\n",
    "- Second I need to assign these variables a starting value, the starting value does not really matter that much because it is going to change as my model learns. So I use `tf.random_normal()` to generate random values for my variables to start at. \n",
    "- The most important thing to noice is the shape of my variables. They are the same shape as my input to that layer and my output for that layer. I start with my X data input dimensions, and end with my target variables output dimension. \n"
   ]
  },
  {
   "cell_type": "markdown",
   "metadata": {},
   "source": [
    "![](https://www.pyimagesearch.com/wp-content/uploads/2016/08/simple_neural_network_header.jpg?width=600)"
   ]
  },
  {
   "cell_type": "markdown",
   "metadata": {},
   "source": [
    "**Step 5: Build our model**"
   ]
  },
  {
   "cell_type": "markdown",
   "metadata": {},
   "source": [
    "Again this step is very similar to the linear model we built (Y = X * w + b), but it is going to be slightly different much like the last step. We need to account for layers sizes and weights and biases at each node. "
   ]
  },
  {
   "cell_type": "code",
   "execution_count": null,
   "metadata": {
    "ExecuteTime": {
     "end_time": "2017-11-07T21:51:44.147873Z",
     "start_time": "2017-11-07T21:51:44.126463Z"
    },
    "collapsed": true
   },
   "outputs": [],
   "source": [
    "# Build models function  (input * weights) + biases\n",
    "# input = data\n",
    "# weights = hidden_layer_n['weights']\n",
    "# biases = hidden_layer_n['biases']\n",
    "\n",
    "l1 = tf.add(tf.matmul(x, hidden_layer_1['weights']), hidden_layer_1['biases'])\n",
    "\n",
    "# Add activation function to run this data\n",
    "l1 = tf.nn.relu(l1, name='relu_l1')\n",
    "\n",
    "l2 = tf.add(tf.matmul(l1, hidden_layer_2['weights']), hidden_layer_2['biases'])\n",
    "l2 = tf.nn.relu(l2, name='relu_l2')\n",
    "\n",
    "l3 = tf.add(tf.matmul(l2, hidden_layer_3['weights']), hidden_layer_3['biases'])\n",
    "l3 = tf.nn.relu(l3, name='relu_l3')\n",
    "\n",
    "y_predicted = tf.add(tf.matmul(l3, output_layer['weights']), output_layer['biases'])"
   ]
  },
  {
   "cell_type": "markdown",
   "metadata": {},
   "source": [
    "This is the same Y = x * w + b, but we need to do matrix multiplication instead of normal multiplication because our weights are matrices, then we use the relu function to help us make our predictions. The layer values trickle down towards the bottom until they finally get to our output layer with our final prediction."
   ]
  },
  {
   "cell_type": "markdown",
   "metadata": {},
   "source": [
    "**Step 6: Define our loss**"
   ]
  },
  {
   "cell_type": "code",
   "execution_count": null,
   "metadata": {
    "ExecuteTime": {
     "end_time": "2017-11-07T21:54:39.102869Z",
     "start_time": "2017-11-07T21:54:39.060709Z"
    },
    "collapsed": true
   },
   "outputs": [],
   "source": [
    "# The same reduce mean function but we also use softmax, a mulitinomial logistical classifier.\n",
    "\n",
    "loss = tf.reduce_mean(tf.nn.softmax_cross_entropy_with_logits(logits=y_predicted, labels=y, name='loss'))"
   ]
  },
  {
   "cell_type": "markdown",
   "metadata": {},
   "source": [
    "### If we have time I will go over this in class, if not, then I will slack out an info doc I wrote up explaining how softmax cross entropy works. "
   ]
  },
  {
   "cell_type": "markdown",
   "metadata": {},
   "source": [
    "**Step 7: Build our optimizer**"
   ]
  },
  {
   "cell_type": "code",
   "execution_count": null,
   "metadata": {
    "ExecuteTime": {
     "end_time": "2017-11-07T21:55:28.367550Z",
     "start_time": "2017-11-07T21:55:28.141493Z"
    },
    "collapsed": true
   },
   "outputs": [],
   "source": [
    "optimizer = tf.train.AdamOptimizer(0.001).minimize(loss, name='optimizer')"
   ]
  },
  {
   "cell_type": "markdown",
   "metadata": {},
   "source": [
    "This is very similar to gradient descent as an optimizer just a different flavor. "
   ]
  },
  {
   "cell_type": "markdown",
   "metadata": {},
   "source": [
    "**Step 8: Initialize all of our variables**"
   ]
  },
  {
   "cell_type": "code",
   "execution_count": null,
   "metadata": {
    "ExecuteTime": {
     "end_time": "2017-11-07T21:55:34.675356Z",
     "start_time": "2017-11-07T21:55:34.671702Z"
    },
    "collapsed": true
   },
   "outputs": [],
   "source": [
    "# Initialize all global variables\n",
    "init = tf.global_variables_initializer()"
   ]
  },
  {
   "cell_type": "markdown",
   "metadata": {},
   "source": [
    "# Phase 2: Execute our model"
   ]
  },
  {
   "cell_type": "markdown",
   "metadata": {},
   "source": [
    "**Step 9: Initialize our session using a with block**"
   ]
  },
  {
   "cell_type": "code",
   "execution_count": null,
   "metadata": {
    "ExecuteTime": {
     "end_time": "2017-11-07T21:58:25.452877Z",
     "start_time": "2017-11-07T21:57:18.986294Z"
    }
   },
   "outputs": [],
   "source": [
    "# Activate our sessions and repeat over for loop\n",
    "with tf.Session() as sess:\n",
    "\n",
    "    # compile all the tf assigned variables (tf.Variables)\n",
    "    sess.run(init)\n",
    "\n",
    "    # Initialize our TensorBoard writer for our NN\n",
    "    writer = tf.summary.FileWriter('./graphs/nn', sess.graph)\n",
    "\n",
    "    # Loop over the defined number of epochs\n",
    "    for epoch in range(hm_epoch):\n",
    "        # initialize loss at 0\n",
    "        total_loss = 0\n",
    "\n",
    "        # Initialize for loop for batches\n",
    "        for _ in range(int(mnist.train.num_examples/batch_size)):\n",
    "\n",
    "            # Tensor flow's mnist next batch function breaks your training data up for you based on your batch size\n",
    "            epoch_x, epoch_y = mnist.train.next_batch(batch_size)\n",
    "\n",
    "            # we use _ because it returns a tuple where the first value is always none, so we dont care about it\n",
    "            _, l = sess.run([optimizer, loss], feed_dict= {x: epoch_x, y: epoch_y})\n",
    "\n",
    "            # add loss to epoch loss\n",
    "            total_loss += l\n",
    "\n",
    "        # Print out our total_loss at each Epoch\n",
    "        print('Epoch ', epoch, ' completed out of ', hm_epoch, ', loss: ', total_loss)\n",
    "        \n",
    "    # close the writer when you're done using it\n",
    "    writer.close()\n",
    "\n",
    "\n",
    "    # Determine the correct amount of classifications\n",
    "    correct = tf.equal(tf.argmax(y_predicted, 1), tf.argmax(y, 1))\n",
    "    \n",
    "    accuracy = tf.reduce_mean(tf.cast(correct, 'float'))\n",
    "    print('Accuracy ', accuracy.eval({x:mnist.test.images, y: mnist.test.labels}))"
   ]
  },
  {
   "cell_type": "markdown",
   "metadata": {},
   "source": [
    "### Let's look at our linear model in TensorBoard\n",
    "\n",
    "### Now go to your terminal window.\n",
    "\n",
    "### Enter this code into the command line.  \n",
    "`tensorboard --logdir=\"./graphs/nn\" --port 6006`\n",
    "\n",
    "\n",
    "### Then navigate to this url. \n",
    "`http://0.0.0.0:6006`\n",
    "\n"
   ]
  },
  {
   "cell_type": "markdown",
   "metadata": {},
   "source": [
    "### Ooooo... Yikes it looks like garbage. I can barely interpret that.\n",
    "\n",
    "\n",
    "### Well they thought of this. We need to place the these variables into hierarchical blocks.\n",
    "\n",
    "\n",
    "### We do this by using `with tf.name_scope('loss')` for instance.\n",
    "\n",
    "\n",
    "### Look at my example below. Restart your kernel before running."
   ]
  },
  {
   "cell_type": "markdown",
   "metadata": {},
   "source": [
    "Neural Networks are typically made as python scripts. I do not usually use jupyter notebooks because it is harder to keep track of all the variables. The full python script is below. "
   ]
  },
  {
   "cell_type": "code",
   "execution_count": null,
   "metadata": {
    "ExecuteTime": {
     "end_time": "2017-11-07T17:36:28.091589Z",
     "start_time": "2017-11-07T17:35:28.915303Z"
    },
    "scrolled": true
   },
   "outputs": [],
   "source": [
    "import tensorflow as tf\n",
    "\n",
    "from tensorflow.examples.tutorials.mnist import input_data\n",
    "\n",
    "mnist = input_data.read_data_sets('MNIST_Data', one_hot=True)\n",
    "\n",
    "# These are the number of nodes we want to have in each layer,\n",
    "# we can set these values to whatever we want.\n",
    "num_nodes_hl1 = 500\n",
    "num_nodes_hl2 = 500\n",
    "num_nodes_hl3 = 500\n",
    "\n",
    "# Number of output classes equals 10\n",
    "# Our classes are also in one hot encoding\n",
    "n_classes = 10\n",
    "\n",
    "# The size of our imput data is 784\n",
    "input_dim = 784\n",
    "\n",
    "# We can set our batch size to whatever we can fit into memory\n",
    "batch_size = 100\n",
    "\n",
    "# Determine how many epochs we would like to use\n",
    "hm_epoch = 10\n",
    "\n",
    "# Set the height and wide of model\n",
    "# These are x and y variables and they must be one dimensional each\n",
    "# So the first dimension always equals None\n",
    "# The second must equal the dimension of your X and y variable\n",
    "\n",
    "x = tf.placeholder(tf.float32, shape=[None, input_dim], name='x_placeholder')\n",
    "y = tf.placeholder(tf.float32, shape=[None, n_classes], name='y_placeholder')\n",
    "\n",
    "# Initialize hidden layer's variables (Inputs, Weights, and Biases) and take random sample from batch training data\n",
    "\n",
    "\n",
    "# Shape equals input data, and number of nodes\n",
    "hidden_layer_1 = {'weights': tf.Variable(tf.random_normal(shape=[input_dim, num_nodes_hl1], name='hidden_layer_1')),\n",
    "                  'biases': tf.Variable(tf.random_normal(shape=[num_nodes_hl1]))}\n",
    "\n",
    "# The output shape of hidden_layer_1 is the num_nodes_hl1, so that is the input for the next layer\n",
    "hidden_layer_2 = {'weights': tf.Variable(tf.random_normal(shape=[num_nodes_hl1, num_nodes_hl2], name='hidden_layer_2')),\n",
    "                  'biases': tf.Variable(tf.random_normal(shape=[num_nodes_hl2]))}\n",
    "\n",
    "hidden_layer_3 = {'weights': tf.Variable(tf.random_normal(shape=[num_nodes_hl2, num_nodes_hl3], name='hidden_layer_3')),\n",
    "                  'biases': tf.Variable(tf.random_normal(shape=[num_nodes_hl3]))}\n",
    "\n",
    "# Lastly we need the output layer, which must have the same output shape as our number of classes or our y shape\n",
    "output_layer = {'weights': tf.Variable(tf.random_normal(shape=[num_nodes_hl3, n_classes], name='output_layer')),\n",
    "                  'biases': tf.Variable(tf.random_normal(shape=[n_classes]))}\n",
    "\n",
    "with tf.name_scope('weights'):\n",
    "    hidden_layer_1['weights']\n",
    "    hidden_layer_2['weights']\n",
    "    hidden_layer_3['weights']\n",
    "    output_layer['weights']\n",
    "\n",
    "with tf.name_scope('biases'):\n",
    "    hidden_layer_1['biases']\n",
    "    hidden_layer_2['biases']\n",
    "    hidden_layer_3['biases']\n",
    "    output_layer['biases']\n",
    "\n",
    "    \n",
    "# Build models function  (input * weights) + biases\n",
    "# input = data\n",
    "# weights = hidden_layer_n['weights']\n",
    "# biases = hidden_layer_n['biases']\n",
    "with tf.name_scope('ReLU'):\n",
    "    l1 = tf.add(tf.matmul(x, hidden_layer_1['weights']), hidden_layer_1['biases'])\n",
    "\n",
    "    # Add activation function to run this data\n",
    "    l1 = tf.nn.relu(l1, name='relu_l1')\n",
    "\n",
    "    l2 = tf.add(tf.matmul(l1, hidden_layer_2['weights']), hidden_layer_2['biases'])\n",
    "    l2 = tf.nn.relu(l2, name='relu_l2')\n",
    "\n",
    "    l3 = tf.add(tf.matmul(l2, hidden_layer_3['weights']), hidden_layer_3['biases'])\n",
    "    l3 = tf.nn.relu(l3, name='relu_l3')\n",
    "\n",
    "    y_predicted = tf.add(tf.matmul(l3, output_layer['weights']), output_layer['biases'])\n",
    "\n",
    "# The same reduce mean function but we also use softmax, a mulitinomial logistical classifier.\n",
    "with tf.name_scope('loss'):\n",
    "    loss = tf.reduce_mean(tf.nn.softmax_cross_entropy_with_logits(logits=y_predicted, labels=y, name='loss'))\n",
    "    \n",
    "with tf.name_scope('train'):\n",
    "    optimizer = tf.train.AdamOptimizer().minimize(loss, name='optimizer')\n",
    "    \n",
    "with tf.name_scope('Accuracy'):\n",
    "    # Accuracy\n",
    "    correct = tf.equal(tf.argmax(y_predicted, 1), tf.argmax(y, 1))\n",
    "    accuracy = tf.reduce_mean(tf.cast(correct, 'float'))\n",
    "\n",
    "# create a summary for our cost and accuracy\n",
    "tf.summary.scalar(\"cost\", loss)\n",
    "tf.summary.scalar(\"accuracy\", accuracy)\n",
    "\n",
    "tf.summary.merge_all()\n",
    "\n",
    "# Initialize all global variables\n",
    "init = tf.global_variables_initializer()\n",
    "\n",
    "# Activate our sessions and repeat over for loop\n",
    "with tf.Session() as sess:\n",
    "\n",
    "    # compile all the tf assigned variables (tf.Variables)\n",
    "    sess.run(init)\n",
    "\n",
    "    # Initialize our TensorBoard writer for our NN\n",
    "    writer = tf.summary.FileWriter('./graphs/new_nn', sess.graph)\n",
    "\n",
    "    # Loop over the defined number of epochs\n",
    "    for epoch in range(hm_epoch):\n",
    "        # initialize loss at 0\n",
    "        total_loss = 0\n",
    "\n",
    "        # Initialize for loop for batches\n",
    "        for _ in range(int(mnist.train.num_examples/batch_size)):\n",
    "\n",
    "            # Tensor flow's mnist next batch function breaks your training data up for you based on your batch size\n",
    "            epoch_x, epoch_y = mnist.train.next_batch(batch_size)\n",
    "\n",
    "            # we use _ because it returns a tuple where the first value is always none, so we dont care about it\n",
    "            _, l = sess.run([optimizer, loss], feed_dict= {x: epoch_x, y: epoch_y})\n",
    "\n",
    "            # add loss to epoch loss\n",
    "            total_loss += l\n",
    "\n",
    "        # Print out our total_loss at each Epoch\n",
    "        print('Epoch ', epoch, ' completed out of ', hm_epoch, ', loss: ', total_loss)\n",
    "        \n",
    "    # close the writer when you're done using it\n",
    "    writer.close()\n",
    "\n",
    "\n",
    "    # Determine the correct amount of classifications\n",
    "    \n",
    "    print('Accuracy ', accuracy.eval({x:mnist.test.images, y: mnist.test.labels}))"
   ]
  },
  {
   "cell_type": "markdown",
   "metadata": {},
   "source": [
    "### Let's look at our linear model in TensorBoard\n",
    "\n",
    "### Now go to your terminal window.\n",
    "\n",
    "### Enter this code into the command line.  \n",
    "`tensorboard --logdir=\"./graphs/new_nn\" --port 6006`\n",
    "\n",
    "\n",
    "### Then navigate to this url. \n",
    "`http://0.0.0.0:6006`\n",
    "\n"
   ]
  },
  {
   "cell_type": "markdown",
   "metadata": {},
   "source": [
    "**Tip**: Do no build TensorFlow NN in jupyter notebooks, it's not very fun. jupyter notebooks does not restart the kernel per NN so everything is kept in the build graph, and will slow everything down."
   ]
  },
  {
   "cell_type": "code",
   "execution_count": null,
   "metadata": {
    "collapsed": true
   },
   "outputs": [],
   "source": []
  }
 ],
 "metadata": {
  "kernelspec": {
   "display_name": "Python 3.6",
   "language": "python",
   "name": "py36"
  },
  "language_info": {
   "codemirror_mode": {
    "name": "ipython",
    "version": 3
   },
   "file_extension": ".py",
   "mimetype": "text/x-python",
   "name": "python",
   "nbconvert_exporter": "python",
   "pygments_lexer": "ipython3",
   "version": "3.6.1"
  },
  "varInspector": {
   "cols": {
    "lenName": 16,
    "lenType": 16,
    "lenVar": 40
   },
   "kernels_config": {
    "python": {
     "delete_cmd_postfix": "",
     "delete_cmd_prefix": "del ",
     "library": "var_list.py",
     "varRefreshCmd": "print(var_dic_list())"
    },
    "r": {
     "delete_cmd_postfix": ") ",
     "delete_cmd_prefix": "rm(",
     "library": "var_list.r",
     "varRefreshCmd": "cat(var_dic_list()) "
    }
   },
   "types_to_exclude": [
    "module",
    "function",
    "builtin_function_or_method",
    "instance",
    "_Feature"
   ],
   "window_display": false
  }
 },
 "nbformat": 4,
 "nbformat_minor": 1
}
